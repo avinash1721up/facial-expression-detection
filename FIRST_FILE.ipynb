{
 "cells": [
  {
   "cell_type": "code",
   "execution_count": 2,
   "metadata": {
    "collapsed": false
   },
   "outputs": [
    {
     "name": "stderr",
     "output_type": "stream",
     "text": [
      "C:\\Users\\avinash\\Anaconda3\\lib\\site-packages\\h5py\\__init__.py:36: FutureWarning: Conversion of the second argument of issubdtype from `float` to `np.floating` is deprecated. In future, it will be treated as `np.float64 == np.dtype(float).type`.\n",
      "  from ._conv import register_converters as _register_converters\n"
     ]
    }
   ],
   "source": [
    "import tensorflow as tf\n",
    "from tensorflow import keras\n",
    "from tensorflow.keras.preprocessing.image import ImageDataGenerator\n",
    "from __future__ import print_function\n",
    "from tensorflow.keras.models import Sequential"
   ]
  },
  {
   "cell_type": "code",
   "execution_count": 3,
   "metadata": {
    "collapsed": false
   },
   "outputs": [],
   "source": [
    "train_dir = 'C:/Users/avinash/Downloads/fer2013-20200527T081229Z-001/fer2013/train'\n",
    "validation_dir = 'C:/Users/avinash/Downloads/fer2013-20200527T081229Z-001/fer2013/validation'"
   ]
  },
  {
   "cell_type": "code",
   "execution_count": 4,
   "metadata": {
    "collapsed": true
   },
   "outputs": [],
   "source": [
    "im_row,im_col = 48,48"
   ]
  },
  {
   "cell_type": "code",
   "execution_count": 6,
   "metadata": {
    "collapsed": false
   },
   "outputs": [],
   "source": [
    "model = tf.keras.models.Sequential([\n",
    "        tf.keras.layers.Conv2D(16 , (3 ,3) , activation = 'relu' , input_shape =( im_row, im_col , 1)),\n",
    "        tf.keras.layers.MaxPooling2D(2 ,2),\n",
    "        tf.keras.layers.Conv2D(32 , (3, 3 ) , activation = 'relu'),\n",
    "        tf.keras.layers.MaxPooling2D(2 ,2),\n",
    "        tf.keras.layers.Conv2D(64 , (3 , 3) , activation = 'relu'),\n",
    "        tf.keras.layers.MaxPooling2D(2 , 2),\n",
    "        tf.keras.layers.Conv2D(64 , (3, 3 ) , activation = 'relu'),\n",
    "        tf.keras.layers.MaxPooling2D(2 , 2),\n",
    "        tf.keras.layers.Flatten(),\n",
    "        tf.keras.layers.Dense(1024 , activation = 'relu'),\n",
    "        tf.keras.layers.Dense(2 , activation = 'softmax')\n",
    "    ])\n"
   ]
  },
  {
   "cell_type": "code",
   "execution_count": 5,
   "metadata": {
    "collapsed": true
   },
   "outputs": [],
   "source": [
    "from tensorflow.keras.optimizers import RMSprop"
   ]
  },
  {
   "cell_type": "code",
   "execution_count": 6,
   "metadata": {
    "collapsed": true
   },
   "outputs": [],
   "source": [
    "model.compile(loss = 'categorical_crossentropy' , optimizer = RMSprop(lr = 0.001) , metrics = ['accuracy'])"
   ]
  },
  {
   "cell_type": "code",
   "execution_count": 7,
   "metadata": {
    "collapsed": true
   },
   "outputs": [],
   "source": [
    "train_datagen = ImageDataGenerator(\n",
    "    rescale = 1./255,\n",
    "    shear_range = 0.2,\n",
    "    width_shift_range = 0.2,\n",
    "    height_shift_range = 0.2,\n",
    "    zoom_range = 0.2,\n",
    "    rotation_range = 0.2,\n",
    "    horizontal_flip = True , \n",
    "    fill_mode = 'nearest'    \n",
    ")"
   ]
  },
  {
   "cell_type": "code",
   "execution_count": 8,
   "metadata": {
    "collapsed": false
   },
   "outputs": [
    {
     "name": "stdout",
     "output_type": "stream",
     "text": [
      "Found 24256 images belonging to 5 classes.\n"
     ]
    }
   ],
   "source": [
    "train_generator = train_datagen.flow_from_directory(\n",
    "    train_dir,\n",
    "    target_size = (48 , 48 ),\n",
    "    class_mode = 'categorical',\n",
    "    batch_size = 32,\n",
    "    shuffle = True,\n",
    "    color_mode = 'grayscale'    \n",
    ")"
   ]
  },
  {
   "cell_type": "code",
   "execution_count": 9,
   "metadata": {
    "collapsed": true
   },
   "outputs": [],
   "source": [
    "validation_datagen = ImageDataGenerator(\n",
    "    rescale = 1./255\n",
    ")"
   ]
  },
  {
   "cell_type": "code",
   "execution_count": 10,
   "metadata": {
    "collapsed": false
   },
   "outputs": [
    {
     "name": "stdout",
     "output_type": "stream",
     "text": [
      "Found 3006 images belonging to 5 classes.\n"
     ]
    }
   ],
   "source": [
    "validation_generator = validation_datagen.flow_from_directory(\n",
    "    validation_dir,\n",
    "    target_size = (48 , 48  ),\n",
    "    class_mode = 'categorical',\n",
    "    batch_size = 32,\n",
    "    color_mode = 'grayscale'\n",
    ")"
   ]
  },
  {
   "cell_type": "code",
   "execution_count": 14,
   "metadata": {
    "collapsed": false
   },
   "outputs": [
    {
     "name": "stdout",
     "output_type": "stream",
     "text": [
      "Epoch 1/70\n",
      "25/25 [==============================] - 5s 214ms/step - loss: 1.5136 - acc: 0.3100 - val_loss: 1.4782 - val_acc: 0.3653\n",
      "Epoch 2/70\n",
      "25/25 [==============================] - 4s 179ms/step - loss: 1.4884 - acc: 0.3550 - val_loss: 1.4662 - val_acc: 0.3659\n",
      "Epoch 3/70\n",
      "25/25 [==============================] - 5s 183ms/step - loss: 1.4748 - acc: 0.3513 - val_loss: 1.4785 - val_acc: 0.3629\n",
      "Epoch 4/70\n",
      "25/25 [==============================] - 5s 191ms/step - loss: 1.4845 - acc: 0.3712 - val_loss: 1.4839 - val_acc: 0.3430\n",
      "Epoch 5/70\n",
      "25/25 [==============================] - 5s 186ms/step - loss: 1.4698 - acc: 0.3450 - val_loss: 1.4810 - val_acc: 0.3759\n",
      "Epoch 6/70\n",
      "25/25 [==============================] - 5s 195ms/step - loss: 1.4852 - acc: 0.3463 - val_loss: 1.4859 - val_acc: 0.3743\n",
      "Epoch 7/70\n",
      "25/25 [==============================] - 5s 182ms/step - loss: 1.4724 - acc: 0.3525 - val_loss: 1.4489 - val_acc: 0.3789\n",
      "Epoch 8/70\n",
      "25/25 [==============================] - 5s 197ms/step - loss: 1.4531 - acc: 0.3663 - val_loss: 1.4430 - val_acc: 0.3836\n",
      "Epoch 9/70\n",
      "25/25 [==============================] - 5s 182ms/step - loss: 1.4223 - acc: 0.3975 - val_loss: 1.4832 - val_acc: 0.3719\n",
      "Epoch 10/70\n",
      "25/25 [==============================] - 5s 197ms/step - loss: 1.4395 - acc: 0.3550 - val_loss: 1.5323 - val_acc: 0.3117\n",
      "Epoch 11/70\n",
      "25/25 [==============================] - 5s 189ms/step - loss: 1.4283 - acc: 0.3837 - val_loss: 1.4238 - val_acc: 0.3995\n",
      "Epoch 12/70\n",
      "25/25 [==============================] - 5s 186ms/step - loss: 1.4230 - acc: 0.3775 - val_loss: 1.4425 - val_acc: 0.3739\n",
      "Epoch 13/70\n",
      "25/25 [==============================] - 5s 194ms/step - loss: 1.4523 - acc: 0.3725 - val_loss: 1.4021 - val_acc: 0.4002\n",
      "Epoch 14/70\n",
      "25/25 [==============================] - 5s 192ms/step - loss: 1.4165 - acc: 0.3837 - val_loss: 1.4216 - val_acc: 0.4005\n",
      "Epoch 15/70\n",
      "25/25 [==============================] - 5s 184ms/step - loss: 1.4313 - acc: 0.3775 - val_loss: 1.4639 - val_acc: 0.3653\n",
      "Epoch 16/70\n",
      "25/25 [==============================] - 5s 187ms/step - loss: 1.3981 - acc: 0.3800 - val_loss: 1.3801 - val_acc: 0.4341\n",
      "Epoch 17/70\n",
      "25/25 [==============================] - 5s 193ms/step - loss: 1.3861 - acc: 0.3725 - val_loss: 1.3950 - val_acc: 0.4208\n",
      "Epoch 18/70\n",
      "25/25 [==============================] - 5s 188ms/step - loss: 1.3895 - acc: 0.3987 - val_loss: 1.3942 - val_acc: 0.4185\n",
      "Epoch 19/70\n",
      "25/25 [==============================] - 5s 195ms/step - loss: 1.3700 - acc: 0.4113 - val_loss: 1.3465 - val_acc: 0.4285\n",
      "Epoch 20/70\n",
      "25/25 [==============================] - 5s 192ms/step - loss: 1.3789 - acc: 0.4113 - val_loss: 1.4478 - val_acc: 0.4088\n",
      "Epoch 21/70\n",
      "25/25 [==============================] - 5s 194ms/step - loss: 1.3794 - acc: 0.4200 - val_loss: 1.4021 - val_acc: 0.4178\n",
      "Epoch 22/70\n",
      "25/25 [==============================] - 5s 185ms/step - loss: 1.3781 - acc: 0.4200 - val_loss: 1.3556 - val_acc: 0.4468\n",
      "Epoch 23/70\n",
      "25/25 [==============================] - 5s 187ms/step - loss: 1.3629 - acc: 0.4138 - val_loss: 1.3622 - val_acc: 0.4568\n",
      "Epoch 24/70\n",
      "25/25 [==============================] - 5s 195ms/step - loss: 1.3769 - acc: 0.4138 - val_loss: 1.3240 - val_acc: 0.4488\n",
      "Epoch 25/70\n",
      "25/25 [==============================] - 5s 190ms/step - loss: 1.4094 - acc: 0.3850 - val_loss: 1.3836 - val_acc: 0.4415\n",
      "Epoch 26/70\n",
      "25/25 [==============================] - 5s 195ms/step - loss: 1.3540 - acc: 0.4337 - val_loss: 1.3483 - val_acc: 0.4624\n",
      "Epoch 27/70\n",
      "25/25 [==============================] - 5s 194ms/step - loss: 1.3143 - acc: 0.4537 - val_loss: 1.4065 - val_acc: 0.4232\n",
      "Epoch 28/70\n",
      "25/25 [==============================] - 5s 193ms/step - loss: 1.3430 - acc: 0.4275 - val_loss: 1.5042 - val_acc: 0.4205\n",
      "Epoch 29/70\n",
      "25/25 [==============================] - 5s 189ms/step - loss: 1.3395 - acc: 0.4400 - val_loss: 1.4133 - val_acc: 0.4504\n",
      "Epoch 30/70\n",
      "25/25 [==============================] - 5s 191ms/step - loss: 1.3677 - acc: 0.4288 - val_loss: 1.4500 - val_acc: 0.4285\n",
      "Epoch 31/70\n",
      "25/25 [==============================] - 5s 207ms/step - loss: 1.3443 - acc: 0.4288 - val_loss: 1.3441 - val_acc: 0.4481\n",
      "Epoch 32/70\n",
      "25/25 [==============================] - 5s 202ms/step - loss: 1.3192 - acc: 0.4637 - val_loss: 1.5229 - val_acc: 0.3716\n",
      "Epoch 33/70\n",
      "25/25 [==============================] - 5s 198ms/step - loss: 1.3160 - acc: 0.4288 - val_loss: 1.3999 - val_acc: 0.4451\n",
      "Epoch 34/70\n",
      "25/25 [==============================] - 5s 200ms/step - loss: 1.2931 - acc: 0.4800 - val_loss: 1.4572 - val_acc: 0.4222\n",
      "Epoch 35/70\n",
      "25/25 [==============================] - 5s 187ms/step - loss: 1.3258 - acc: 0.4375 - val_loss: 1.3152 - val_acc: 0.4468\n",
      "Epoch 36/70\n",
      "25/25 [==============================] - 5s 190ms/step - loss: 1.2616 - acc: 0.4775 - val_loss: 1.3349 - val_acc: 0.4641\n",
      "Epoch 37/70\n",
      "25/25 [==============================] - 5s 203ms/step - loss: 1.3278 - acc: 0.4488 - val_loss: 1.3397 - val_acc: 0.4704\n",
      "Epoch 38/70\n",
      "25/25 [==============================] - 5s 195ms/step - loss: 1.3087 - acc: 0.4600 - val_loss: 1.3031 - val_acc: 0.4631\n",
      "Epoch 39/70\n",
      "25/25 [==============================] - 5s 196ms/step - loss: 1.2805 - acc: 0.4750 - val_loss: 1.3366 - val_acc: 0.4804\n",
      "Epoch 40/70\n",
      "25/25 [==============================] - 5s 193ms/step - loss: 1.2781 - acc: 0.4700 - val_loss: 1.3212 - val_acc: 0.4621\n",
      "Epoch 41/70\n",
      "25/25 [==============================] - 5s 193ms/step - loss: 1.3267 - acc: 0.4688 - val_loss: 1.3575 - val_acc: 0.4597\n",
      "Epoch 42/70\n",
      "25/25 [==============================] - 5s 196ms/step - loss: 1.2645 - acc: 0.4700 - val_loss: 1.2998 - val_acc: 0.4767\n",
      "Epoch 43/70\n",
      "25/25 [==============================] - 5s 198ms/step - loss: 1.3017 - acc: 0.4563 - val_loss: 1.3242 - val_acc: 0.4687\n",
      "Epoch 44/70\n",
      "25/25 [==============================] - 5s 193ms/step - loss: 1.2749 - acc: 0.4575 - val_loss: 1.3206 - val_acc: 0.4381\n",
      "Epoch 45/70\n",
      "25/25 [==============================] - 5s 212ms/step - loss: 1.2646 - acc: 0.5012 - val_loss: 1.3187 - val_acc: 0.4744\n",
      "Epoch 46/70\n",
      "25/25 [==============================] - 5s 194ms/step - loss: 1.2845 - acc: 0.4575 - val_loss: 1.3448 - val_acc: 0.4757\n",
      "Epoch 47/70\n",
      "25/25 [==============================] - 5s 194ms/step - loss: 1.2668 - acc: 0.4750 - val_loss: 1.3299 - val_acc: 0.4524\n",
      "Epoch 48/70\n",
      "25/25 [==============================] - 5s 198ms/step - loss: 1.2557 - acc: 0.4775 - val_loss: 1.4125 - val_acc: 0.4454\n",
      "Epoch 49/70\n",
      "25/25 [==============================] - 5s 202ms/step - loss: 1.2828 - acc: 0.4775 - val_loss: 1.3269 - val_acc: 0.4834\n",
      "Epoch 50/70\n",
      "25/25 [==============================] - 5s 200ms/step - loss: 1.2697 - acc: 0.4887 - val_loss: 1.3847 - val_acc: 0.4627\n",
      "Epoch 51/70\n",
      "25/25 [==============================] - 5s 187ms/step - loss: 1.2145 - acc: 0.4900 - val_loss: 1.3754 - val_acc: 0.4734\n",
      "Epoch 52/70\n",
      "25/25 [==============================] - 5s 188ms/step - loss: 1.2057 - acc: 0.5075 - val_loss: 1.3328 - val_acc: 0.4850\n",
      "Epoch 53/70\n",
      "25/25 [==============================] - 5s 206ms/step - loss: 1.2696 - acc: 0.4637 - val_loss: 1.3994 - val_acc: 0.4677\n",
      "Epoch 54/70\n",
      "25/25 [==============================] - 5s 190ms/step - loss: 1.2431 - acc: 0.4913 - val_loss: 1.3071 - val_acc: 0.4767\n",
      "Epoch 55/70\n",
      "25/25 [==============================] - 5s 188ms/step - loss: 1.2844 - acc: 0.4688 - val_loss: 1.2820 - val_acc: 0.4993\n",
      "Epoch 56/70\n",
      "25/25 [==============================] - 5s 201ms/step - loss: 1.2611 - acc: 0.4688 - val_loss: 1.2817 - val_acc: 0.4704\n",
      "Epoch 57/70\n",
      "25/25 [==============================] - 5s 200ms/step - loss: 1.2541 - acc: 0.4775 - val_loss: 1.3076 - val_acc: 0.4947\n",
      "Epoch 58/70\n",
      "25/25 [==============================] - 5s 195ms/step - loss: 1.1714 - acc: 0.5237 - val_loss: 1.3263 - val_acc: 0.4611\n",
      "Epoch 59/70\n",
      "25/25 [==============================] - 5s 191ms/step - loss: 1.2060 - acc: 0.5062 - val_loss: 1.3680 - val_acc: 0.4691\n",
      "Epoch 60/70\n",
      "25/25 [==============================] - 5s 190ms/step - loss: 1.2542 - acc: 0.4738 - val_loss: 1.2992 - val_acc: 0.5037\n",
      "Epoch 61/70\n",
      "25/25 [==============================] - 5s 197ms/step - loss: 1.2884 - acc: 0.4488 - val_loss: 1.3021 - val_acc: 0.4784\n",
      "Epoch 62/70\n",
      "25/25 [==============================] - 5s 193ms/step - loss: 1.2835 - acc: 0.4738 - val_loss: 1.3146 - val_acc: 0.4933\n",
      "Epoch 63/70\n",
      "25/25 [==============================] - 5s 206ms/step - loss: 1.2849 - acc: 0.4537 - val_loss: 1.3169 - val_acc: 0.4943\n",
      "Epoch 64/70\n",
      "25/25 [==============================] - 5s 191ms/step - loss: 1.2470 - acc: 0.4838 - val_loss: 1.2919 - val_acc: 0.5120\n",
      "Epoch 65/70\n",
      "25/25 [==============================] - 5s 197ms/step - loss: 1.2197 - acc: 0.4975 - val_loss: 1.3032 - val_acc: 0.4983\n",
      "Epoch 66/70\n",
      "25/25 [==============================] - 5s 192ms/step - loss: 1.2471 - acc: 0.4962 - val_loss: 1.2552 - val_acc: 0.5020\n",
      "Epoch 67/70\n",
      "25/25 [==============================] - 5s 190ms/step - loss: 1.2243 - acc: 0.4875 - val_loss: 1.4037 - val_acc: 0.4770\n",
      "Epoch 68/70\n",
      "25/25 [==============================] - 5s 188ms/step - loss: 1.1705 - acc: 0.5475 - val_loss: 1.2981 - val_acc: 0.5010\n",
      "Epoch 69/70\n",
      "25/25 [==============================] - 5s 196ms/step - loss: 1.1646 - acc: 0.5125 - val_loss: 1.3686 - val_acc: 0.4747\n",
      "Epoch 70/70\n",
      "25/25 [==============================] - 5s 204ms/step - loss: 1.2170 - acc: 0.4887 - val_loss: 1.4089 - val_acc: 0.4947\n"
     ]
    }
   ],
   "source": [
    "history = model.fit_generator(\n",
    "    train_generator , \n",
    "    epochs = 70 , \n",
    "    steps_per_epoch = 25 ,\n",
    "    validation_data = validation_generator , \n",
    "    verbose = 1)"
   ]
  },
  {
   "cell_type": "code",
   "execution_count": 16,
   "metadata": {
    "collapsed": false
   },
   "outputs": [],
   "source": [
    "from tensorflow.keras.models import load_model"
   ]
  },
  {
   "cell_type": "code",
   "execution_count": 17,
   "metadata": {
    "collapsed": true
   },
   "outputs": [],
   "source": [
    "model.save('first_file.h5')"
   ]
  },
  {
   "cell_type": "code",
   "execution_count": null,
   "metadata": {
    "collapsed": true
   },
   "outputs": [],
   "source": []
  },
  {
   "cell_type": "code",
   "execution_count": null,
   "metadata": {
    "collapsed": true
   },
   "outputs": [],
   "source": []
  }
 ],
 "metadata": {
  "anaconda-cloud": {},
  "kernelspec": {
   "display_name": "Python [conda root]",
   "language": "python",
   "name": "conda-root-py"
  },
  "language_info": {
   "codemirror_mode": {
    "name": "ipython",
    "version": 3
   },
   "file_extension": ".py",
   "mimetype": "text/x-python",
   "name": "python",
   "nbconvert_exporter": "python",
   "pygments_lexer": "ipython3",
   "version": "3.5.2"
  }
 },
 "nbformat": 4,
 "nbformat_minor": 1
}
